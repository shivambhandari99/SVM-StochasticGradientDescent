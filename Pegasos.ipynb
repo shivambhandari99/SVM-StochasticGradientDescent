{
 "cells": [
  {
   "cell_type": "code",
   "execution_count": 1,
   "metadata": {},
   "outputs": [],
   "source": [
    "import numpy as np\n",
    "import timeit\n",
    "import statistics\n",
    "import random\n",
    "import matplotlib.pyplot as plt\n",
    "\n",
    "def objective(w,n,y,x,lmbda):\n",
    "    sum_loss = 0\n",
    "    for i in range(n):\n",
    "        l = 1-y[i,]*(w.T.dot(x[i,:]))\n",
    "        l = max(0, l)\n",
    "        sum_loss+=l\n",
    "    obj = (lmbda/2)*w.T.dot(w)\n",
    "    obj+=sum_loss/n\n",
    "    return obj.item()\n",
    "\n",
    "def fly_pegasos(k,d,n,y,x,lmbda):\n",
    "    w = np.zeros((d,1))\n",
    "    k_max = 0\n",
    "    t = 1\n",
    "    iter_count = []\n",
    "    objectives = []\n",
    "    while True:\n",
    "        A_t = random.sample(range(n),k)\n",
    "        summation = 0\n",
    "        ita = (1)/(lmbda*t)\n",
    "        summation=np.zeros((d,1))\n",
    "        for i in A_t:\n",
    "            if(y[i]*w.T.dot(x[i])<1):\n",
    "                k_max+=1\n",
    "                summation+=y[i]*(x[i][:,None])\n",
    "                \n",
    "                if(k_max>100*n):\n",
    "                    print(objective(w,n,y,x,lmbda))\n",
    "                    print(t)\n",
    "                    return iter_count,objectives\n",
    "        w_t_half = (1-ita*lmbda)*w + (ita/k)*summation\n",
    "        minimum = min(1, 1./(np.sqrt(lmbda)*np.linalg.norm(w_t_half)))\n",
    "        w = minimum*w_t_half\n",
    "        t = t+1\n",
    "        iter_count.append(t)\n",
    "        objectives.append(objective(w,n,y,x,lmbda))\n",
    "        if(t>1000):\n",
    "            print(objective(w,n,y,x,lmbda))\n",
    "            print(t)\n",
    "            return iter_count,objectives\n",
    "\n",
    "\n",
    "def myPegasos(filename,k,numruns):\n",
    "    mnist_data = np.loadtxt(filename,delimiter=',')\n",
    "    n = mnist_data.shape[0]\n",
    "    x = mnist_data[:,1:]\n",
    "    d = x.shape[1]\n",
    "    y = mnist_data[:,:1].reshape((n,1))\n",
    "    y[y==1] = 1\n",
    "    y[y==3] = -1\n",
    "    lmbda = 10\n",
    "    time_list = [0 for i in range(numruns)]\n",
    "    colours=['r','g','b','c','m','y','k','w']\n",
    "    for i in range(numruns):\n",
    "        start = timeit.default_timer()\n",
    "        iter_count,objective = fly_pegasos(k,d,n,y,x,lmbda)\n",
    "        plt.plot(iter_count, objective, colours[i])\n",
    "        stop = timeit.default_timer()\n",
    "        time_list[i] = stop-start\n",
    "    print(time_list)\n",
    "    print(statistics.stdev(time_list))\n",
    "    plt.xlabel('iter')\n",
    "    plt.ylabel('obj')\n",
    "    plt.title('pegasos200')\n",
    "    plt.show()\n"
   ]
  },
  {
   "cell_type": "code",
   "execution_count": 2,
   "metadata": {
    "scrolled": false
   },
   "outputs": [
    {
     "name": "stdout",
     "output_type": "stream",
     "text": [
      "0.008967261133050438\n",
      "1001\n",
      "0.009463624581430647\n",
      "1001\n",
      "0.009235716561290908\n",
      "1001\n",
      "0.008790269666771593\n",
      "1001\n",
      "0.008396103354735437\n",
      "1001\n",
      "[10.115789275000001, 10.125499389000002, 10.123253542999997, 10.239074613, 10.252640244999995]\n",
      "0.06836888987091994\n"
     ]
    },
    {
     "data": {
      "image/png": "[encoded data removed]",
      "text/plain": [
       "<Figure size 432x288 with 1 Axes>"
      ]
     },
     "metadata": {
      "needs_background": "light"
     },
     "output_type": "display_data"
    }
   ],
   "source": [
    "myPegasos('/Users/shivambhandari/Desktop/csci5525/hw2/MNIST-13.csv',k=200,numruns=5)"
   ]
  },
  {
   "cell_type": "code",
   "execution_count": null,
   "metadata": {},
   "outputs": [],
   "source": []
  }
 ],
 "metadata": {
  "kernelspec": {
   "display_name": "Python 3",
   "language": "python",
   "name": "python3"
  },
  "language_info": {
   "codemirror_mode": {
    "name": "ipython",
    "version": 3
   },
   "file_extension": ".py",
   "mimetype": "text/x-python",
   "name": "python",
   "nbconvert_exporter": "python",
   "pygments_lexer": "ipython3",
   "version": "3.8.3"
  }
 },
 "nbformat": 4,
 "nbformat_minor": 4
}
